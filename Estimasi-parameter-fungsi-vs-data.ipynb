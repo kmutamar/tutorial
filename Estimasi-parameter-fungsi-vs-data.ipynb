{
 "cells": [
  {
   "cell_type": "markdown",
   "id": "bdee311c",
   "metadata": {},
   "source": [
    "# Estimasi Parameter dari data untuk fungsi\n",
    "Pada bagian ini diterangkan langkah untuk menentukan estimasi parameter sebuah fungsi yang dipilih dengan menggunakan data yang diberikan.\n",
    "1. Data diberikan\n",
    "2. Fungsi tebakan diberikan\n",
    "\n",
    "Metode yang digunakan\n",
    "+ leastsq pada scipy.optimize\n",
    "+ lstsq pada scipy.linalg\n",
    "+ lstsq pada numpy.linalg"
   ]
  },
  {
   "cell_type": "code",
   "execution_count": 1,
   "id": "aff8e3e7",
   "metadata": {},
   "outputs": [],
   "source": [
    "# import modul\n",
    "import pandas as pd\n",
    "import numpy as np\n",
    "from scipy.optimize import leastsq\n",
    "import matplotlib.pyplot as plt"
   ]
  },
  {
   "cell_type": "code",
   "execution_count": 2,
   "id": "3d9ea6e0",
   "metadata": {},
   "outputs": [
    {
     "data": {
      "text/plain": [
       "(40, 2)"
      ]
     },
     "execution_count": 2,
     "metadata": {},
     "output_type": "execute_result"
    }
   ],
   "source": [
    "# import data yang tersimpan di excel\n",
    "df=pd.read_excel(\"DATA/data-kuadrat.xls\",usecols=\"A:B\")\n",
    "data=np.array(df)\n",
    "data.shape"
   ]
  },
  {
   "cell_type": "code",
   "execution_count": 3,
   "id": "47bcd728",
   "metadata": {},
   "outputs": [
    {
     "data": {
      "text/plain": [
       "array([[1.1       , 4.8189829 ],\n",
       "       [1.2       , 4.93924238],\n",
       "       [1.3       , 4.7581577 ],\n",
       "       [1.4       , 5.62558316],\n",
       "       [1.5       , 5.56495827],\n",
       "       [1.6       , 5.58645838],\n",
       "       [1.7       , 6.82163022]])"
      ]
     },
     "execution_count": 3,
     "metadata": {},
     "output_type": "execute_result"
    }
   ],
   "source": [
    "data[:7,:]"
   ]
  },
  {
   "cell_type": "code",
   "execution_count": 4,
   "id": "04babe32",
   "metadata": {},
   "outputs": [
    {
     "data": {
      "image/png": "[encoded data removed]",
      "text/plain": [
       "<Figure size 432x288 with 1 Axes>"
      ]
     },
     "metadata": {
      "needs_background": "light"
     },
     "output_type": "display_data"
    }
   ],
   "source": [
    "plt.figure(1)\n",
    "plt.plot(data[:,0],data[:,1],'r-')\n",
    "plt.show()"
   ]
  },
  {
   "cell_type": "markdown",
   "id": "4b320454",
   "metadata": {},
   "source": [
    "Karena mirip fungsi kuadrat, dimisalkan fungsi tebakan adalah fungsi kuadrat $y=ax^2+bx+c$"
   ]
  },
  {
   "cell_type": "markdown",
   "id": "0af368c9",
   "metadata": {},
   "source": [
    "## Metode 1: Residu dengan leastsq\n",
    "Diperlukan beberapa procedure\n",
    "+ procedure fungsi tebakan\n",
    " - input adalah parameter\n",
    " - domain dianggap global\n",
    "+ procedure residu/sisa\n",
    " - menghitung selisih data dan tebakan\n",
    " - output dalam vektor. Jika perhitungan matriks, perlu di flatten()"
   ]
  },
  {
   "cell_type": "code",
   "execution_count": 5,
   "id": "ff125c3a",
   "metadata": {},
   "outputs": [],
   "source": [
    "def fungsitebakan(p):\n",
    "    a,b,c=p\n",
    "    x=data[:,0]\n",
    "    return a*x**2+b*x+c"
   ]
  },
  {
   "cell_type": "code",
   "execution_count": 6,
   "id": "6d5691db",
   "metadata": {},
   "outputs": [],
   "source": [
    "def sisa(p):\n",
    "    eror=data[:,1]-fungsitebakan(p)\n",
    "    return eror.flatten()"
   ]
  },
  {
   "cell_type": "code",
   "execution_count": 7,
   "id": "bb5ade80",
   "metadata": {},
   "outputs": [],
   "source": [
    "# menentukan nilai parameter dengan leastsq\n",
    "initpar=[0.6,0.2,0.4]\n",
    "param=leastsq(sisa,initpar)[0]"
   ]
  },
  {
   "cell_type": "code",
   "execution_count": 8,
   "id": "c5fa458f",
   "metadata": {},
   "outputs": [
    {
     "data": {
      "image/png": "[encoded data removed]",
      "text/plain": [
       "<Figure size 432x288 with 1 Axes>"
      ]
     },
     "metadata": {
      "needs_background": "light"
     },
     "output_type": "display_data"
    }
   ],
   "source": [
    "plt.figure(1)\n",
    "plt.plot(data[:,0],data[:,1],'ro') # data asli\n",
    "plt.plot(data[:,0],fungsitebakan(param),'b-') # tebakan\n",
    "plt.show()"
   ]
  },
  {
   "cell_type": "markdown",
   "id": "0c65a623",
   "metadata": {},
   "source": [
    "## Metode 2: lstsq pada scipy"
   ]
  },
  {
   "cell_type": "code",
   "execution_count": 9,
   "id": "e92c7097",
   "metadata": {},
   "outputs": [],
   "source": [
    "from scipy.linalg import lstsq"
   ]
  },
  {
   "cell_type": "code",
   "execution_count": 10,
   "id": "1c116528",
   "metadata": {},
   "outputs": [],
   "source": [
    "# extract data\n",
    "x=data[:,0]\n",
    "y=data[:,1]"
   ]
  },
  {
   "cell_type": "code",
   "execution_count": 11,
   "id": "b7d63609",
   "metadata": {},
   "outputs": [
    {
     "name": "stdout",
     "output_type": "stream",
     "text": [
      "[[1.21 1.1  1.  ]\n",
      " [1.44 1.2  1.  ]\n",
      " [1.69 1.3  1.  ]\n",
      " [1.96 1.4  1.  ]\n",
      " [2.25 1.5  1.  ]\n",
      " [2.56 1.6  1.  ]\n",
      " [2.89 1.7  1.  ]]\n"
     ]
    }
   ],
   "source": [
    "# fungsi tebakan adalah y=ax^2+bx+c\n",
    "# Buat matriks M, berisi [x^2,x^1,1]\n",
    "M=x[:,np.newaxis]**[2,1,0]\n",
    "print(M[0:7,:])"
   ]
  },
  {
   "cell_type": "code",
   "execution_count": 12,
   "id": "94cd0d57",
   "metadata": {},
   "outputs": [
    {
     "name": "stdout",
     "output_type": "stream",
     "text": [
      "[ 1.01024483 -0.01115397  3.4442283 ]\n",
      "[ 1.01024484 -0.01115393  3.44422822]\n"
     ]
    }
   ],
   "source": [
    "# cek hasil\n",
    "param2,res,rnk,s=lstsq(M,y)\n",
    "print(param2)\n",
    "print(param)"
   ]
  },
  {
   "cell_type": "code",
   "execution_count": 13,
   "id": "fb748948",
   "metadata": {},
   "outputs": [
    {
     "data": {
      "image/png": "[encoded data removed]",
      "text/plain": [
       "<Figure size 432x288 with 1 Axes>"
      ]
     },
     "metadata": {
      "needs_background": "light"
     },
     "output_type": "display_data"
    }
   ],
   "source": [
    "# plot bersamaan\n",
    "plt.figure(1)\n",
    "plt.plot(data[:,0],data[:,1],'ro') # data asli\n",
    "plt.plot(data[:,0],fungsitebakan(param),'b-') # tebakan metode 1\n",
    "plt.plot(data[:,0],fungsitebakan(param2),'k-') # tebakan metode 2\n",
    "plt.show()"
   ]
  },
  {
   "cell_type": "markdown",
   "id": "57feb0f8",
   "metadata": {},
   "source": [
    "$R^2$ mengindikasikan proporsi/persentase data yang terletak di sekitar garis yang dihasilkan dari fungsi tebakan. Semakin besar nilai $R^2$ maka berarti titik-titik semakin besar proporsinya didekati garis fungsi tebakan yang berarti bahwa fungsi tebakan memiliki kualitas yang baik."
   ]
  },
  {
   "cell_type": "code",
   "execution_count": 14,
   "id": "cd9b7814",
   "metadata": {},
   "outputs": [
    {
     "name": "stdout",
     "output_type": "stream",
     "text": [
      "0.9987085326666754\n",
      "0.9987085326666754\n"
     ]
    }
   ],
   "source": [
    "# check/hitung R2, MSE\n",
    "from sklearn.metrics import r2_score\n",
    "r2_metode_1=r2_score(y,fungsitebakan(param))\n",
    "r2_metode_2=r2_score(y,fungsitebakan(param2))\n",
    "print(r2_metode_1)\n",
    "print(r2_metode_1)"
   ]
  },
  {
   "cell_type": "markdown",
   "id": "f29df5ff",
   "metadata": {},
   "source": [
    "## Metode 3: lstsq pada numpy"
   ]
  },
  {
   "cell_type": "code",
   "execution_count": 15,
   "id": "75aee637",
   "metadata": {},
   "outputs": [
    {
     "data": {
      "text/plain": [
       "(40, 3)"
      ]
     },
     "execution_count": 15,
     "metadata": {},
     "output_type": "execute_result"
    }
   ],
   "source": [
    "# Membuat matriks M, identik dengan scipy\n",
    "# berbeda cara penulisan dengan menggunakan vstack,\n",
    "# menggabungkan kolom\n",
    "x0=np.ones(np.size(data[:,0]))\n",
    "x1=data[:,0]\n",
    "x2=data[:,0]**2\n",
    "M=np.vstack([x2,x1,x0]).T\n",
    "M.shape"
   ]
  },
  {
   "cell_type": "code",
   "execution_count": 16,
   "id": "670d073c",
   "metadata": {},
   "outputs": [
    {
     "name": "stdout",
     "output_type": "stream",
     "text": [
      "[ 1.01024484 -0.01115393  3.44422822]\n",
      "[ 1.01024483 -0.01115397  3.4442283 ]\n",
      "[ 1.01024483 -0.01115397  3.4442283 ]\n"
     ]
    }
   ],
   "source": [
    "# Solusi menggunakan numpy\n",
    "param3,res,rnk,s=np.linalg.lstsq(M,data[:,1],rcond=0)\n",
    "print(param)\n",
    "print(param2)\n",
    "print(param3)"
   ]
  },
  {
   "cell_type": "code",
   "execution_count": null,
   "id": "0cef0e2f",
   "metadata": {},
   "outputs": [],
   "source": []
  }
 ],
 "metadata": {
  "kernelspec": {
   "display_name": "Python 3 (ipykernel)",
   "language": "python",
   "name": "python3"
  },
  "language_info": {
   "codemirror_mode": {
    "name": "ipython",
    "version": 3
   },
   "file_extension": ".py",
   "mimetype": "text/x-python",
   "name": "python",
   "nbconvert_exporter": "python",
   "pygments_lexer": "ipython3",
   "version": "3.8.10"
  }
 },
 "nbformat": 4,
 "nbformat_minor": 5
}
