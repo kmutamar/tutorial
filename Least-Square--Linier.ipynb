{
 "cells": [
  {
   "cell_type": "markdown",
   "id": "ab061ecb",
   "metadata": {},
   "source": [
    "# Fitting Kurva dengan least-squares\n",
    "Pekanbaru, 2021-09-16\n",
    "\n",
    "1. Diberikan $n$ data $d_i=d(x_i),i=1,2,\\ldots,n$\n",
    "2. Dipilih fungsi hampiran $y_i=y(x_i)=f(x_i),i=1,2,\\ldots,n$. \n",
    "3. Antara data dan fungsi terdapat eror\n",
    "$$e=\\dfrac{1}{2}\\sum_{i=0}^{n}{\\left(d_i-y_i\\right)^2}$$\n",
    "4. Misalkan polinomial orde $m$\n",
    "$y(x)=\\sum_{i=0}^{m}{a_ix^i}$. Eror selanjutnya menjadi\n",
    "$$e=\\dfrac{1}{2}\\sum_{i=0}^{n}{\\left(d_i-\\sum_{i=0}^{m}{a_ix^i}\\right)^2}$$\n",
    "5. Tujuan adalah menentukan nilai $a_i,i=0,1,2,\\ldots,m$ yang meminimumkan nilai $e$, yang memenuhi\n",
    "$$\\dfrac{\\partial e}{\\partial a_i}=0$$\n",
    "untuk setiap $i=0,1,2,\\ldots,m$"
   ]
  },
  {
   "cell_type": "markdown",
   "id": "eeadd141",
   "metadata": {},
   "source": [
    "<b>Situasi</b>\n",
    "1. Data tersedia, misalkan dalam excel\n",
    "2. Fungsi pilihan tersedia, lihat pola datanya\n",
    "3. Nilai konstanta fungsi pilihan dicari dengan least-square python\n",
    "\n",
    "<b>prosedur</b>\n",
    "1. Load data excel ke dalam python, gunakan numpy\n",
    "2. Hitung selisih data dan fungsi\n",
    "3. tentukan parameter dengan modul leastsq"
   ]
  },
  {
   "cell_type": "markdown",
   "id": "81d1912b",
   "metadata": {},
   "source": [
    "## Meng-import data\n",
    "1. Data disimpan dalam excel\n",
    "2. Import data dengan pandas\n",
    "3. Data simpan ke tabel numpy"
   ]
  },
  {
   "cell_type": "code",
   "execution_count": 1,
   "id": "826ccb28",
   "metadata": {},
   "outputs": [],
   "source": [
    "# import modul yang dipakai\n",
    "import numpy as np\n",
    "import pandas as pd\n",
    "import matplotlib.pyplot as plt\n",
    "from scipy.optimize import leastsq"
   ]
  },
  {
   "cell_type": "code",
   "execution_count": 2,
   "id": "da7ba062",
   "metadata": {},
   "outputs": [],
   "source": [
    "# import data dari excel\n",
    "# nama excel >> data-least-square\n",
    "# nama sheet >> linier\n",
    "# kolom dipakai A:B\n",
    "df=pd.read_excel('data_least_square.xlsx',sheet_name=\"linier\",usecols=\"A:B\")\n",
    "data=df.to_numpy(dtype=np.float64)\n",
    "x=data[:,0]\n",
    "y=data[:,1]"
   ]
  },
  {
   "cell_type": "code",
   "execution_count": 3,
   "id": "55e70d66",
   "metadata": {},
   "outputs": [
    {
     "data": {
      "text/plain": [
       "[<matplotlib.lines.Line2D at 0x25f9aa9a430>]"
      ]
     },
     "execution_count": 3,
     "metadata": {},
     "output_type": "execute_result"
    },
    {
     "data": {
      "image/png": "[encoded data removed]",
      "text/plain": [
       "<Figure size 432x288 with 1 Axes>"
      ]
     },
     "metadata": {
      "needs_background": "light"
     },
     "output_type": "display_data"
    }
   ],
   "source": [
    "# menggambar pola data untuk menentukan fungsi tebakan\n",
    "plt.plot(x,y,'o')"
   ]
  },
  {
   "cell_type": "code",
   "execution_count": 4,
   "id": "01978206",
   "metadata": {},
   "outputs": [],
   "source": [
    "# Fungsi tebakan yang dipilih adalah linier"
   ]
  },
  {
   "cell_type": "markdown",
   "id": "34a5ebc2",
   "metadata": {},
   "source": [
    "## Menghitung fungsi pada domain data\n",
    "1. Proses dengan procedure\n",
    "2. Input >> domain, parameter\n",
    "3. Output >> nilai fungsi di tiap domain"
   ]
  },
  {
   "cell_type": "code",
   "execution_count": 5,
   "id": "548808c8",
   "metadata": {},
   "outputs": [],
   "source": [
    "# input x dari data\n",
    "# par adalah (a1,a0) dalam tuple\n",
    "def fungsi_linier(x,par):\n",
    "    a,b=par\n",
    "    y=a*x+b\n",
    "    return y"
   ]
  },
  {
   "cell_type": "code",
   "execution_count": 6,
   "id": "f182a660",
   "metadata": {},
   "outputs": [
    {
     "data": {
      "text/plain": [
       "(101,)"
      ]
     },
     "execution_count": 6,
     "metadata": {},
     "output_type": "execute_result"
    }
   ],
   "source": [
    "x.shape"
   ]
  },
  {
   "cell_type": "code",
   "execution_count": 7,
   "id": "50ccc243",
   "metadata": {},
   "outputs": [
    {
     "data": {
      "text/plain": [
       "(101,)"
      ]
     },
     "execution_count": 7,
     "metadata": {},
     "output_type": "execute_result"
    }
   ],
   "source": [
    "nilai=fungsi_linier(x,(1,2))\n",
    "np.shape(nilai)"
   ]
  },
  {
   "cell_type": "markdown",
   "id": "2cdc6f1d",
   "metadata": {},
   "source": [
    "## Menghitung eror data dan fungsi\n",
    "1. Proses dengan prosedur\n",
    "2. Data sudah diberikan\n",
    "3. Fungsi dievaluasi dari domain diberikan dan parameter tebakan"
   ]
  },
  {
   "cell_type": "code",
   "execution_count": 8,
   "id": "f027fecb",
   "metadata": {},
   "outputs": [],
   "source": [
    "# input adalah parameter\n",
    "def selisih(p):\n",
    "    eror=y-fungsi_linier(x,p)\n",
    "    return eror.flatten()"
   ]
  },
  {
   "cell_type": "code",
   "execution_count": 9,
   "id": "a635ad63",
   "metadata": {},
   "outputs": [
    {
     "data": {
      "text/plain": [
       "(101,)"
      ]
     },
     "execution_count": 9,
     "metadata": {},
     "output_type": "execute_result"
    }
   ],
   "source": [
    "coba=selisih((1,2))\n",
    "np.shape(coba)"
   ]
  },
  {
   "cell_type": "markdown",
   "id": "aad123b0",
   "metadata": {},
   "source": [
    "## Prosedure untuk menghitung parameter\n",
    "1. Modul menggunakan least-square\n",
    "2. Membutuhkan tebakan awal\n",
    "3. Membutuhkan procedure eror"
   ]
  },
  {
   "cell_type": "code",
   "execution_count": 10,
   "id": "5d5ebc4f",
   "metadata": {},
   "outputs": [],
   "source": [
    "tebakan_awal=(10,5)\n",
    "hasil=leastsq(selisih,tebakan_awal)"
   ]
  },
  {
   "cell_type": "code",
   "execution_count": 11,
   "id": "1b649e98",
   "metadata": {},
   "outputs": [
    {
     "data": {
      "text/plain": [
       "(array([1.99987895, 4.51718301]), 3)"
      ]
     },
     "execution_count": 11,
     "metadata": {},
     "output_type": "execute_result"
    }
   ],
   "source": [
    "hasil"
   ]
  },
  {
   "cell_type": "code",
   "execution_count": 12,
   "id": "a678b81d",
   "metadata": {},
   "outputs": [],
   "source": [
    "# ambil nilai parameter dari hasil\n",
    "param=hasil[0]"
   ]
  },
  {
   "cell_type": "markdown",
   "id": "9d7ba9ad",
   "metadata": {},
   "source": [
    "## Membuat kurva \n",
    "1. Kurva data\n",
    "2. Kurva estimasi\n",
    "3. Kurva eror"
   ]
  },
  {
   "cell_type": "code",
   "execution_count": 13,
   "id": "6ec6c582",
   "metadata": {},
   "outputs": [
    {
     "data": {
      "image/png": "[encoded data removed]",
      "text/plain": [
       "<Figure size 432x288 with 1 Axes>"
      ]
     },
     "metadata": {
      "needs_background": "light"
     },
     "output_type": "display_data"
    }
   ],
   "source": [
    "plt.figure(1)\n",
    "plt.plot(x,y,'or',label='data')\n",
    "plt.plot(x,fungsi_linier(x,param),'-b',label='estimasi')\n",
    "plt.xlabel('Hari',fontsize=14)\n",
    "plt.ylabel('Data',fontsize=14)\n",
    "plt.title('Data dan Estimasi')\n",
    "plt.show()"
   ]
  },
  {
   "cell_type": "code",
   "execution_count": 14,
   "id": "6295f152",
   "metadata": {},
   "outputs": [
    {
     "data": {
      "image/png": "[encoded data removed]",
      "text/plain": [
       "<Figure size 432x288 with 1 Axes>"
      ]
     },
     "metadata": {
      "needs_background": "light"
     },
     "output_type": "display_data"
    }
   ],
   "source": [
    "plt.figure(2)\n",
    "plt.plot(x,y-fungsi_linier(x,param),'-r',label='selisih')\n",
    "plt.xlabel('Hari',fontsize=14)\n",
    "plt.ylabel('Eror',fontsize=14)\n",
    "plt.title('Selisih Data dan Estimasi')\n",
    "plt.show()"
   ]
  },
  {
   "cell_type": "code",
   "execution_count": null,
   "id": "3ce4d02e",
   "metadata": {},
   "outputs": [],
   "source": []
  }
 ],
 "metadata": {
  "kernelspec": {
   "display_name": "Python 3",
   "language": "python",
   "name": "python3"
  },
  "language_info": {
   "codemirror_mode": {
    "name": "ipython",
    "version": 3
   },
   "file_extension": ".py",
   "mimetype": "text/x-python",
   "name": "python",
   "nbconvert_exporter": "python",
   "pygments_lexer": "ipython3",
   "version": "3.8.8"
  }
 },
 "nbformat": 4,
 "nbformat_minor": 5
}
